{
 "cells": [
  {
   "cell_type": "markdown",
   "metadata": {},
   "source": [
    "# Run `mnist-*.py` on AML"
   ]
  },
  {
   "cell_type": "markdown",
   "metadata": {},
   "source": [
    "## Initialize workspace\n",
    "\n",
    "_Copied from AML [example >>](https://github.com/Azure/MachineLearningNotebooks/blob/master/how-to-use-azureml/training-with-deep-learning/train-hyperparameter-tune-deploy-with-tensorflow/train-hyperparameter-tune-deploy-with-tensorflow.ipynb)_\n",
    "\n",
    "Initialize a Workspace object from the existing workspace you created in the Prerequisites step. Workspace.from_config() creates a workspace object from the details stored in config.json."
   ]
  },
  {
   "cell_type": "code",
   "execution_count": 1,
   "metadata": {
    "scrolled": true
   },
   "outputs": [
    {
     "name": "stdout",
     "output_type": "stream",
     "text": [
      "Azure ML SDK Version:  1.0.21\n",
      "Turning diagnostics collection on. \n",
      "Found the config file in: /home/wuh/hello-tf/mnist/run-on-aml/aml_config/config.json\n",
      "{'id': '/subscriptions/f36a6329-7382-4b2e-b386-452fecdfcd73/resourceGroups/aml-test/providers/Microsoft.MachineLearningServices/workspaces/aml-test-ws', 'name': 'aml-test-ws', 'location': 'eastus2', 'type': 'Microsoft.MachineLearningServices/workspaces', 'workspaceid': 'c8bab51f-43ca-4fcf-9122-bbccba990797', 'description': '', 'friendlyName': 'aml-test-ws', 'creationTime': '2019-03-20T11:41:32.5628663+00:00', 'containerRegistry': '/subscriptions/f36a6329-7382-4b2e-b386-452fecdfcd73/resourcegroups/aml-test/providers/microsoft.containerregistry/registries/amltestwacrzghwzoya', 'keyVault': '/subscriptions/f36a6329-7382-4b2e-b386-452fecdfcd73/resourcegroups/aml-test/providers/microsoft.keyvault/vaults/amltestwkeyvaultcombopoo', 'applicationInsights': '/subscriptions/f36a6329-7382-4b2e-b386-452fecdfcd73/resourcegroups/aml-test/providers/microsoft.insights/components/amltestwinsightsvgpnysys', 'identityPrincipalId': '645628c9-2f96-4f59-bef4-8db5113fd8ad', 'identityTenantId': 'c6e2b678-ae29-45ef-a454-b81e4fecb421', 'identityType': 'SystemAssigned', 'storageAccount': '/subscriptions/f36a6329-7382-4b2e-b386-452fecdfcd73/resourcegroups/aml-test/providers/microsoft.storage/storageaccounts/amltestwstoragetbzcisco'}\n"
     ]
    }
   ],
   "source": [
    "%matplotlib inline\n",
    "import numpy as np\n",
    "import os\n",
    "import matplotlib.pyplot as plt\n",
    "import azureml.core\n",
    "from azureml.core import Workspace\n",
    "\n",
    "# check core SDK version number\n",
    "print(\"Azure ML SDK Version: \", azureml.core.VERSION)\n",
    "\n",
    "from azureml.telemetry import set_diagnostics_collection\n",
    "\n",
    "set_diagnostics_collection(send_diagnostics=True)\n",
    "\n",
    "ws = None\n",
    "try:\n",
    "    ws = Workspace.from_config()\n",
    "except:\n",
    "    subscription_id = os.getenv(\"SUBSCRIPTION_ID\", default=\"f36a6329-7382-4b2e-b386-452fecdfcd73\")\n",
    "    resource_group = os.getenv(\"RESOURCE_GROUP\", default=\"aml-test\")\n",
    "    workspace_name = os.getenv(\"WORKSPACE_NAME\", default=\"aml-test-ws\")\n",
    "    workspace_region = os.getenv(\"WORKSPACE_REGION\", default=\"eastus2\")\n",
    "    try:\n",
    "        print(\"Connecting to workspace '%s'...\" % workspace_name)\n",
    "        ws = Workspace(subscription_id = subscription_id, resource_group = resource_group, workspace_name = workspace_name)\n",
    "    except:\n",
    "        print(\"Workspace not accessible. Creating a new one...\")\n",
    "        try:\n",
    "            ws = Workspace.create(\n",
    "                name = workspace_name,\n",
    "                subscription_id = subscription_id,\n",
    "                resource_group = resource_group, \n",
    "                location = workspace_region,\n",
    "                create_resource_group = True,\n",
    "                exist_ok = True)\n",
    "        except:\n",
    "            print(\"Failed to connect to workspace. Quit with error.\")\n",
    "            sys.exit(1)\n",
    "    ws.write_config()\n",
    "print(ws.get_details())"
   ]
  },
  {
   "cell_type": "markdown",
   "metadata": {},
   "source": [
    "## Attach the blobstore with the training data to the workspace\n",
    "\n",
    "To make the data accessible for remote training, you will need to keep the data in the cloud. AML provides a convenient way to do so via a [Datastore](https://docs.microsoft.com/azure/machine-learning/service/how-to-access-data). The datastore provides a mechanism for you to upload/download data, and interact with it from your remote compute targets. It is an abstraction over Azure Storage. The datastore can reference either an Azure Blob container or Azure file share as the underlying storage.\n",
    "\n",
    "All contents, except the 'out' folder, in [philly-gfs://philly/wu2/v-minghh/bert-re3qa](https://storage.wu2.philly.selfhost.corp.microsoft.com/msrnext/v-minghh/bert-re3qa) have been copied to [wuh-blob://demo-2/msrnext/v-minghh/bert-re3qa](https://ms.portal.azure.com/#blade/Microsoft_Azure_Storage/ContainerMenuBlade/overview/storageAccountId/%2Fsubscriptions%2Fa20c82c7-4497-4d44-952a-3105f790e26b%2FresourceGroups%2Faml-test%2Fproviders%2FMicrosoft.Storage%2FstorageAccounts%2Fwuhamltestsa/path/demo-2/etag/%220x8D6C84080A38A69%22)"
   ]
  },
  {
   "cell_type": "code",
   "execution_count": 2,
   "metadata": {},
   "outputs": [
    {
     "name": "stdout",
     "output_type": "stream",
     "text": [
      "Datastore 'hellotfstore' has already been regsitered.\n",
      "All registered datastors:\n",
      "  - workspaceblobstore (AzureBlob)\n",
      "  - workspacefilestore (AzureFile)\n",
      "  - externalblobstore (AzureBlob)\n",
      "  - hellotfstore (AzureBlob)\n",
      "$AZUREML_DATAREFERENCE_1de05827546e4ffeb53db2f96460935c\n"
     ]
    }
   ],
   "source": [
    "from azureml.core import Datastore\n",
    "\n",
    "datastore_name = \"hellotfstore\"\n",
    "\n",
    "# Unregister all datastores except the built-in stores of the workspace.\n",
    "# Ref: print(\"Datastore '%s' registered.\" % datastore_name)\n",
    "#for name, ds in datastores.items():\n",
    "#    if name != \"workspaceblobstore\" and name != \"workspacefilestore\":\n",
    "#        ds.unregister()\n",
    "\n",
    "if datastore_name not in ws.datastores:\n",
    "    ds = Datastore.register_azure_blob_container(\n",
    "        workspace=ws, \n",
    "        datastore_name=datastore_name,\n",
    "        container_name=\"hello-tf\",\n",
    "        account_name=\"wuhamltestsa\",\n",
    "        account_key=\"LBpyUOlJT/wbiHQReiwY1EB3WhDF3Sn2STia4UY//SkMWerh08M0QjhImmQ8TwCrmvDfq0tVtB3xF9mxZFiMXA==\"\n",
    "    )\n",
    "    print(\"Datastore '%s' registered.\" % datastore_name)\n",
    "else:\n",
    "    ds = Datastore(ws, datastore_name)\n",
    "    print(\"Datastore '%s' has already been regsitered.\" % datastore_name)\n",
    "    \n",
    "# List all registrered datastores in the current workspace.\n",
    "# Ref: https://docs.microsoft.com/en-us/azure/machine-learning/service/how-to-access-data#find--define-datastores\n",
    "print(\"All registered datastors:\")\n",
    "for name, ds in ws.datastores.items():\n",
    "    print(\"  - %s (%s)\" % (name, ds.datastore_type))\n",
    "\n",
    "#define default datastore for current workspace\n",
    "#ws.set_default_datastore(datastore_name)\n",
    "#ds = ws.get_default_datastore()\n",
    "    \n",
    "# The difference between as_mount(), as_download(), and as_upload():\n",
    "# https://docs.microsoft.com/en-us/azure/machine-learning/service/how-to-access-data#access-datastores-during-training\n",
    "print(ds.path(\"data/mnist\").as_mount())"
   ]
  },
  {
   "cell_type": "markdown",
   "metadata": {},
   "source": [
    "## Create or attach to existing AmlCompute\n",
    "\n",
    "_Copied from AML [example >>](https://github.com/Azure/MachineLearningNotebooks/blob/master/how-to-use-azureml/training-with-deep-learning/train-hyperparameter-tune-deploy-with-tensorflow/train-hyperparameter-tune-deploy-with-tensorflow.ipynb)_"
   ]
  },
  {
   "cell_type": "code",
   "execution_count": 3,
   "metadata": {},
   "outputs": [
    {
     "name": "stdout",
     "output_type": "stream",
     "text": [
      "gpucluster AmlCompute Succeeded\n",
      "gpucluster-nc24 AmlCompute Succeeded\n",
      "cpucluster-II AmlCompute Succeeded\n",
      "Found existing compute target\n",
      "{'currentNodeCount': 0, 'targetNodeCount': 0, 'nodeStateCounts': {'preparingNodeCount': 0, 'runningNodeCount': 0, 'idleNodeCount': 0, 'unusableNodeCount': 0, 'leavingNodeCount': 0, 'preemptedNodeCount': 0}, 'allocationState': 'Steady', 'allocationStateTransitionTime': '2019-05-06T12:30:49.996000+00:00', 'errors': None, 'creationTime': '2019-04-25T11:46:49.467206+00:00', 'modifiedTime': '2019-04-25T12:34:59.560007+00:00', 'provisioningState': 'Succeeded', 'provisioningStateTransitionTime': None, 'scaleSettings': {'minNodeCount': 0, 'maxNodeCount': 1, 'nodeIdleTimeBeforeScaleDown': 'PT600S'}, 'vmPriority': 'Dedicated', 'vmSize': 'STANDARD_D2_V2'}\n"
     ]
    }
   ],
   "source": [
    "from azureml.core.compute import ComputeTarget, AmlCompute\n",
    "from azureml.core.compute_target import ComputeTargetException\n",
    "\n",
    "compute_targets = ws.compute_targets\n",
    "for name, ct in compute_targets.items():\n",
    "    print(name, ct.type, ct.provisioning_state)\n",
    "\n",
    "# choose a name for your cluster\n",
    "#cluster_name = \"gpucluster-nc24\"\n",
    "cluster_name = \"cpucluster-II\"\n",
    "\n",
    "try:\n",
    "    compute_target = ComputeTarget(workspace=ws, name=cluster_name)\n",
    "    print('Found existing compute target')\n",
    "except ComputeTargetException:\n",
    "    print('Creating a new compute target...')\n",
    "    compute_config = AmlCompute.provisioning_configuration(\n",
    "        #vm_size=\"STANDARD_NC24\",\n",
    "        vm_size=\"STANDARD_D2_V2\",\n",
    "        min_nodes=1,\n",
    "        max_nodes=1\n",
    "    )\n",
    "\n",
    "    # create the cluster\n",
    "    compute_target = ComputeTarget.create(ws, cluster_name, compute_config)\n",
    "\n",
    "    # can poll for a minimum number of nodes and for a specific timeout. \n",
    "    # if no min node count is provided it uses the scale settings for the cluster\n",
    "    compute_target.wait_for_completion(show_output=True, min_node_count=None, timeout_in_minutes=20)\n",
    "\n",
    "# use get_status() to get a detailed status for the current cluster. \n",
    "print(compute_target.get_status().serialize())"
   ]
  },
  {
   "cell_type": "markdown",
   "metadata": {},
   "source": [
    "## Create an estimator\n",
    "\n",
    "See https://docs.microsoft.com/en-us/python/api/azureml-train-core/azureml.train.estimator.estimator?view=azure-ml-py for the document of the Estimator class."
   ]
  },
  {
   "cell_type": "code",
   "execution_count": 26,
   "metadata": {
    "scrolled": true
   },
   "outputs": [
    {
     "name": "stdout",
     "output_type": "stream",
     "text": [
      "[2019-05-15 07:20:08.720646] <azureml.train.estimator.Estimator object at 0x7f823e6b6a90>\n"
     ]
    }
   ],
   "source": [
    "from azureml.train.estimator import Estimator\n",
    "\n",
    "# Single node\n",
    "est_1 = Estimator(\n",
    "    compute_target=compute_target,\n",
    "    use_gpu=False,\n",
    "    node_count=1,\n",
    "    pip_packages=['tensorflow==1.13.1'],\n",
    "    source_directory=\"../\",\n",
    "    entry_script=\"mnist-mlp.py\",\n",
    "    script_params={\n",
    "        \"--data-dir\": ds.path(\"data/mnist\").as_mount()\n",
    "    }\n",
    ")\n",
    "\n",
    "# Distributed with PS architecture\n",
    "from azureml.train.dnn import TensorFlow\n",
    "est_2 = TensorFlow(\n",
    "    compute_target=compute_target,\n",
    "    use_gpu=False,\n",
    "    node_count=2,\n",
    "    distributed_backend='ps',\n",
    "    parameter_server_count=2,\n",
    "    worker_count=2,\n",
    "    source_directory=\"../\",\n",
    "    entry_script=\"mnist-mlp-dist-ps.py\",\n",
    "    script_params={\n",
    "        \"--data-dir\": ds.path(\"data/mnist\").as_mount()\n",
    "    }\n",
    ")\n",
    "\n",
    "\n",
    "# Distributed with Horovod\n",
    "est_3 = Estimator(\n",
    "    compute_target=compute_target,\n",
    "    use_gpu=False,\n",
    "    node_count=2,\n",
    "    distributed_backend='mpi',\n",
    "    process_count_per_node=2,\n",
    "    pip_packages=['tensorflow==1.13.1', 'horovod'],\n",
    "    source_directory=\"../\",\n",
    "    entry_script=\"mnist-mlp-dist-hvd.py\",\n",
    "    script_params={\n",
    "        \"--data-dir\": ds.path(\"data/mnist\").as_mount()\n",
    "    }\n",
    ")\n",
    "\n",
    "import datetime\n",
    "print(\"[%s] %s\" % (str(datetime.datetime.now()), str(est)))\n"
   ]
  },
  {
   "cell_type": "markdown",
   "metadata": {},
   "source": [
    "## Submit the job"
   ]
  },
  {
   "cell_type": "code",
   "execution_count": 31,
   "metadata": {},
   "outputs": [
    {
     "name": "stdout",
     "output_type": "stream",
     "text": [
      "Run(Experiment: aml-hello-tf,\n",
      "Id: aml-hello-tf_1557905898_efa3a62c,\n",
      "Type: azureml.scriptrun,\n",
      "Status: Running)\n"
     ]
    },
    {
     "data": {
      "application/vnd.jupyter.widget-view+json": {
       "model_id": "2c74ffdb1f5d4cfe8decd2133b38ef6f",
       "version_major": 2,
       "version_minor": 0
      },
      "text/plain": [
       "_UserRunWidget(widget_settings={'childWidgetDisplay': 'popup', 'send_telemetry': True, 'log_level': 'INFO', 's…"
      ]
     },
     "metadata": {},
     "output_type": "display_data"
    }
   ],
   "source": [
    "from azureml.core import Experiment\n",
    "exp = Experiment(workspace=ws, name='aml-hello-tf')\n",
    "\n",
    "run = exp.submit(est_2)\n",
    "print(run)\n",
    "\n",
    "from azureml.widgets import RunDetails\n",
    "\n",
    "RunDetails(run).show()"
   ]
  },
  {
   "cell_type": "code",
   "execution_count": null,
   "metadata": {},
   "outputs": [],
   "source": []
  }
 ],
 "metadata": {
  "kernelspec": {
   "display_name": "Python 3",
   "language": "python",
   "name": "python3"
  },
  "language_info": {
   "codemirror_mode": {
    "name": "ipython",
    "version": 3
   },
   "file_extension": ".py",
   "mimetype": "text/x-python",
   "name": "python",
   "nbconvert_exporter": "python",
   "pygments_lexer": "ipython3",
   "version": "3.7.2"
  }
 },
 "nbformat": 4,
 "nbformat_minor": 2
}
